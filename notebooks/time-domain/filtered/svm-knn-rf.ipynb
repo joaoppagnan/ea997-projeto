{
 "cells": [
  {
   "cell_type": "markdown",
   "id": "29d37b4e",
   "metadata": {},
   "source": [
    "# SVM, KNN and RF evaluation on the dataset in the filtered time domain"
   ]
  },
  {
   "cell_type": "markdown",
   "id": "0c2dab99",
   "metadata": {},
   "source": [
    "## Setting up the evaluation"
   ]
  },
  {
   "cell_type": "markdown",
   "id": "beab3ac0",
   "metadata": {},
   "source": [
    "### Importing the necessary libraries and setting things up"
   ]
  },
  {
   "cell_type": "code",
   "execution_count": 1,
   "id": "2e1ade0d",
   "metadata": {},
   "outputs": [],
   "source": [
    "import numpy as np\n",
    "from sklearn.model_selection import train_test_split\n",
    "import os\n",
    "import sys\n",
    "import tabulate\n",
    "import matplotlib.pyplot as plt"
   ]
  },
  {
   "cell_type": "code",
   "execution_count": 2,
   "id": "ca3a9a18",
   "metadata": {},
   "outputs": [],
   "source": [
    "REPO_ROOT_DIR = \"../../../\"\n",
    "sys.path.append(os.path.dirname(REPO_ROOT_DIR))\n",
    "import src"
   ]
  },
  {
   "cell_type": "code",
   "execution_count": 3,
   "id": "1d544bff",
   "metadata": {},
   "outputs": [],
   "source": [
    "from src.features import Filter"
   ]
  },
  {
   "cell_type": "code",
   "execution_count": 4,
   "id": "b8eaaba4",
   "metadata": {},
   "outputs": [],
   "source": [
    "from src.models import SVM\n",
    "from src.models import KNN\n",
    "from src.models import RF"
   ]
  },
  {
   "cell_type": "code",
   "execution_count": 5,
   "id": "82f90d9a",
   "metadata": {},
   "outputs": [],
   "source": [
    "csv_path = os.path.join(REPO_ROOT_DIR, \"data/raw/csv/\")"
   ]
  },
  {
   "cell_type": "markdown",
   "id": "aa74c16a",
   "metadata": {},
   "source": [
    "## Setting up the data"
   ]
  },
  {
   "cell_type": "markdown",
   "id": "8ce0618c",
   "metadata": {},
   "source": [
    "### Reading the dataset"
   ]
  },
  {
   "cell_type": "code",
   "execution_count": 6,
   "id": "1872c971",
   "metadata": {},
   "outputs": [],
   "source": [
    "dataset = src.data.mit_bih_dataset.MIT_BIH_Dataset(path=csv_path)"
   ]
  },
  {
   "cell_type": "code",
   "execution_count": 7,
   "id": "4a8e864a",
   "metadata": {},
   "outputs": [],
   "source": [
    "X_data = dataset.get_X_data()\n",
    "y_data = dataset.get_y_data()"
   ]
  },
  {
   "cell_type": "markdown",
   "id": "4c8bb5db",
   "metadata": {},
   "source": [
    "### Filtering the X data"
   ]
  },
  {
   "cell_type": "code",
   "execution_count": 8,
   "id": "39a2cce4",
   "metadata": {},
   "outputs": [
    {
     "name": "stderr",
     "output_type": "stream",
     "text": [
      "/usr/local/lib/python3.8/dist-packages/pywt/_multilevel.py:43: UserWarning: Level value of 10 is too high: all coefficients will experience boundary effects.\n",
      "  warnings.warn(\n"
     ]
    }
   ],
   "source": [
    "filter = Filter.Filter(X_data)\n",
    "filter.denoise_data()\n",
    "X_data = filter.get_clean_data()"
   ]
  },
  {
   "cell_type": "markdown",
   "id": "fdca4042",
   "metadata": {},
   "source": [
    "### Creating the train and test set"
   ]
  },
  {
   "cell_type": "code",
   "execution_count": 9,
   "id": "5edeb0df",
   "metadata": {},
   "outputs": [],
   "source": [
    "X_train, X_test, y_train, y_test = train_test_split(X_data, y_data, random_state=42)"
   ]
  },
  {
   "cell_type": "markdown",
   "id": "8d43adfa",
   "metadata": {},
   "source": [
    "## Evaluating the models"
   ]
  },
  {
   "cell_type": "markdown",
   "id": "914fc7e5",
   "metadata": {},
   "source": [
    "## SVM"
   ]
  },
  {
   "cell_type": "code",
   "execution_count": 10,
   "id": "db9f6e93",
   "metadata": {},
   "outputs": [],
   "source": [
    "svm_model = SVM.SVM_Model(X_train, y_train)\n",
    "svm_model.fit()\n",
    "svm_model.predict(X_test)\n",
    "svm_metrics = svm_model.eval_model(y_test)"
   ]
  },
  {
   "cell_type": "code",
   "execution_count": 11,
   "id": "0e108558",
   "metadata": {},
   "outputs": [
    {
     "name": "stdout",
     "output_type": "stream",
     "text": [
      "F-medida: 0.9311 | Acurácia: 0.9299\n"
     ]
    }
   ],
   "source": [
    "print(\"F-medida:\", round(svm_metrics[0], 4), \"| Acurácia:\", round(svm_metrics[1], 4))"
   ]
  },
  {
   "cell_type": "markdown",
   "id": "ab99e3a8",
   "metadata": {},
   "source": [
    "## RF"
   ]
  },
  {
   "cell_type": "code",
   "execution_count": 12,
   "id": "7c5fb395",
   "metadata": {},
   "outputs": [],
   "source": [
    "rf_model = RF.RF_Model(X_train, y_train)\n",
    "rf_model.fit()\n",
    "rf_model.predict(X_test)\n",
    "rf_metrics = rf_model.eval_model(y_test)"
   ]
  },
  {
   "cell_type": "code",
   "execution_count": 13,
   "id": "18af2ab3",
   "metadata": {},
   "outputs": [
    {
     "name": "stdout",
     "output_type": "stream",
     "text": [
      "F-medida: 0.9514 | Acurácia: 0.951\n"
     ]
    }
   ],
   "source": [
    "print(\"F-medida:\", round(rf_metrics[0], 4), \"| Acurácia:\", round(rf_metrics[1], 4))"
   ]
  },
  {
   "cell_type": "markdown",
   "id": "98602a03",
   "metadata": {},
   "source": [
    "## KNN"
   ]
  },
  {
   "cell_type": "code",
   "execution_count": 14,
   "id": "8c8bd7e1",
   "metadata": {},
   "outputs": [],
   "source": [
    "knn_model = KNN.KNN_Model(X_train, y_train)\n",
    "knn_model.fit()\n",
    "knn_model.predict(X_test)\n",
    "knn_metrics = knn_model.eval_model(y_test)"
   ]
  },
  {
   "cell_type": "code",
   "execution_count": 15,
   "id": "ebbd6094",
   "metadata": {},
   "outputs": [
    {
     "name": "stdout",
     "output_type": "stream",
     "text": [
      "F-medida: 0.9337 | Acurácia: 0.9334\n"
     ]
    }
   ],
   "source": [
    "print(\"F-medida:\", round(knn_metrics[0], 4), \"| Acurácia:\", round(knn_metrics[1], 4))"
   ]
  }
 ],
 "metadata": {
  "kernelspec": {
   "display_name": "Python 3",
   "language": "python",
   "name": "python3"
  },
  "language_info": {
   "codemirror_mode": {
    "name": "ipython",
    "version": 3
   },
   "file_extension": ".py",
   "mimetype": "text/x-python",
   "name": "python",
   "nbconvert_exporter": "python",
   "pygments_lexer": "ipython3",
   "version": "3.8.10"
  }
 },
 "nbformat": 4,
 "nbformat_minor": 5
}
