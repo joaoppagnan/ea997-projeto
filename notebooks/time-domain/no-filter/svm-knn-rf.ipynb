{
 "cells": [
  {
   "cell_type": "markdown",
   "id": "3668c6a4",
   "metadata": {},
   "source": [
    "# SVM, KNN and RF evaluation on the dataset in the time domain"
   ]
  },
  {
   "cell_type": "markdown",
   "id": "9189da66",
   "metadata": {},
   "source": [
    "## Setting up the evaluation"
   ]
  },
  {
   "cell_type": "markdown",
   "id": "d89f5ea1",
   "metadata": {},
   "source": [
    "### Importing the necessary libraries and setting things up"
   ]
  },
  {
   "cell_type": "code",
   "execution_count": 1,
   "id": "1e7e00e2",
   "metadata": {},
   "outputs": [],
   "source": [
    "import numpy as np\n",
    "from sklearn.model_selection import train_test_split\n",
    "import os\n",
    "import sys\n",
    "import matplotlib.pyplot as plt"
   ]
  },
  {
   "cell_type": "code",
   "execution_count": 2,
   "id": "686b1782",
   "metadata": {},
   "outputs": [],
   "source": [
    "REPO_ROOT_DIR = \"../../../\"\n",
    "sys.path.append(os.path.dirname(REPO_ROOT_DIR))\n",
    "import src"
   ]
  },
  {
   "cell_type": "code",
   "execution_count": 3,
   "id": "c4df0d0a",
   "metadata": {},
   "outputs": [],
   "source": [
    "from src.models import SVM\n",
    "from src.models import KNN\n",
    "from src.models import RF"
   ]
  },
  {
   "cell_type": "code",
   "execution_count": 4,
   "id": "e017aeab",
   "metadata": {},
   "outputs": [],
   "source": [
    "csv_path = os.path.join(REPO_ROOT_DIR, \"data/raw/csv/\")"
   ]
  },
  {
   "cell_type": "markdown",
   "id": "94e68269",
   "metadata": {},
   "source": [
    "## Setting up the data"
   ]
  },
  {
   "cell_type": "markdown",
   "id": "cf1cabcb",
   "metadata": {},
   "source": [
    "### Reading the dataset"
   ]
  },
  {
   "cell_type": "code",
   "execution_count": 5,
   "id": "b1866f71",
   "metadata": {},
   "outputs": [],
   "source": [
    "dataset = src.data.mit_bih_dataset.MIT_BIH_Dataset(path=csv_path)"
   ]
  },
  {
   "cell_type": "code",
   "execution_count": 6,
   "id": "22303ea8",
   "metadata": {},
   "outputs": [],
   "source": [
    "X_data = dataset.get_X_data()\n",
    "y_data = dataset.get_y_data()"
   ]
  },
  {
   "cell_type": "markdown",
   "id": "9f94c832",
   "metadata": {},
   "source": [
    "### Creating the train and test set"
   ]
  },
  {
   "cell_type": "code",
   "execution_count": 7,
   "id": "b91263ed",
   "metadata": {},
   "outputs": [],
   "source": [
    "X_train, X_test, y_train, y_test = train_test_split(X_data, y_data, random_state=42)"
   ]
  },
  {
   "cell_type": "markdown",
   "id": "04d79d82",
   "metadata": {},
   "source": [
    "## Evaluating the models"
   ]
  },
  {
   "cell_type": "markdown",
   "id": "18ec9fd1",
   "metadata": {},
   "source": [
    "## SVM"
   ]
  },
  {
   "cell_type": "code",
   "execution_count": 11,
   "id": "8828d334",
   "metadata": {},
   "outputs": [],
   "source": [
    "svm_model = SVM.SVM_Model(X_train, y_train)\n",
    "svm_model.fit()\n",
    "svm_model.predict(X_test)\n",
    "svm_metrics = svm_model.eval_model(y_test)"
   ]
  },
  {
   "cell_type": "markdown",
   "id": "b84e947a",
   "metadata": {},
   "source": [
    "## RF"
   ]
  },
  {
   "cell_type": "code",
   "execution_count": 12,
   "id": "265a94ab",
   "metadata": {},
   "outputs": [],
   "source": [
    "rf_model = RF.RF_Model(X_train, y_train)\n",
    "rf_model.fit()\n",
    "rf_model.predict(X_test)\n",
    "rf_metrics = svm_model.eval_model(y_test)"
   ]
  },
  {
   "cell_type": "markdown",
   "id": "4782347a",
   "metadata": {},
   "source": [
    "## KNN"
   ]
  },
  {
   "cell_type": "code",
   "execution_count": 15,
   "id": "36daf50b",
   "metadata": {},
   "outputs": [],
   "source": [
    "knn_model = KNN.KNN_Model(X_train, y_train)\n",
    "knn_model.fit()\n",
    "knn_model.predict(X_test)\n",
    "knn_metrics = svm_model.eval_model(y_test)"
   ]
  },
  {
   "cell_type": "code",
   "execution_count": null,
   "id": "6b7eda5f",
   "metadata": {},
   "outputs": [],
   "source": []
  }
 ],
 "metadata": {
  "kernelspec": {
   "display_name": "Python 3",
   "language": "python",
   "name": "python3"
  },
  "language_info": {
   "codemirror_mode": {
    "name": "ipython",
    "version": 3
   },
   "file_extension": ".py",
   "mimetype": "text/x-python",
   "name": "python",
   "nbconvert_exporter": "python",
   "pygments_lexer": "ipython3",
   "version": "3.8.10"
  }
 },
 "nbformat": 4,
 "nbformat_minor": 5
}
