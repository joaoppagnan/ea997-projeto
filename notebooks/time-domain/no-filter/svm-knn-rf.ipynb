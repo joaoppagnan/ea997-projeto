{
 "cells": [
  {
   "cell_type": "markdown",
   "id": "d871b068",
   "metadata": {},
   "source": [
    "# SVM, KNN and RF evaluation on the dataset in the time domain"
   ]
  },
  {
   "cell_type": "markdown",
   "id": "e6d8b9b7",
   "metadata": {},
   "source": [
    "## Setting up the evaluation"
   ]
  },
  {
   "cell_type": "markdown",
   "id": "00411f04",
   "metadata": {},
   "source": [
    "### Importing the necessary libraries and setting things up"
   ]
  },
  {
   "cell_type": "code",
   "execution_count": 1,
   "id": "90855527",
   "metadata": {},
   "outputs": [],
   "source": [
    "import numpy as np\n",
    "from sklearn.model_selection import train_test_split\n",
    "import os\n",
    "import sys\n",
    "import tabulate\n",
    "import matplotlib.pyplot as plt"
   ]
  },
  {
   "cell_type": "code",
   "execution_count": 2,
   "id": "5368b076",
   "metadata": {},
   "outputs": [],
   "source": [
    "REPO_ROOT_DIR = \"../../../\"\n",
    "sys.path.append(os.path.dirname(REPO_ROOT_DIR))\n",
    "import src"
   ]
  },
  {
   "cell_type": "code",
   "execution_count": 3,
   "id": "17376975",
   "metadata": {},
   "outputs": [],
   "source": [
    "from src.models import SVM\n",
    "from src.models import KNN\n",
    "from src.models import RF"
   ]
  },
  {
   "cell_type": "code",
   "execution_count": 4,
   "id": "17d7858a",
   "metadata": {},
   "outputs": [],
   "source": [
    "csv_path = os.path.join(REPO_ROOT_DIR, \"data/raw/csv/\")"
   ]
  },
  {
   "cell_type": "markdown",
   "id": "ef04858e",
   "metadata": {},
   "source": [
    "## Setting up the data"
   ]
  },
  {
   "cell_type": "markdown",
   "id": "7110cd34",
   "metadata": {},
   "source": [
    "### Reading the dataset"
   ]
  },
  {
   "cell_type": "code",
   "execution_count": 5,
   "id": "e0e66ffe",
   "metadata": {},
   "outputs": [],
   "source": [
    "dataset = src.data.mit_bih_dataset.MIT_BIH_Dataset(path=csv_path)"
   ]
  },
  {
   "cell_type": "code",
   "execution_count": 6,
   "id": "6a601f43",
   "metadata": {},
   "outputs": [],
   "source": [
    "X_data = dataset.get_X_data()\n",
    "y_data = dataset.get_y_data()"
   ]
  },
  {
   "cell_type": "markdown",
   "id": "b468bfa1",
   "metadata": {},
   "source": [
    "### Creating the train and test set"
   ]
  },
  {
   "cell_type": "code",
   "execution_count": 7,
   "id": "28249396",
   "metadata": {},
   "outputs": [],
   "source": [
    "X_train, X_test, y_train, y_test = train_test_split(X_data, y_data, random_state=42)"
   ]
  },
  {
   "cell_type": "markdown",
   "id": "866aa551",
   "metadata": {},
   "source": [
    "## Evaluating the models"
   ]
  },
  {
   "cell_type": "markdown",
   "id": "9a5ccd07",
   "metadata": {},
   "source": [
    "## SVM"
   ]
  },
  {
   "cell_type": "code",
   "execution_count": 8,
   "id": "6e46ed8c",
   "metadata": {},
   "outputs": [],
   "source": [
    "svm_model = SVM.SVM_Model(X_train, y_train)\n",
    "svm_model.fit()\n",
    "svm_model.predict(X_test)\n",
    "svm_metrics = svm_model.eval_model(y_test)"
   ]
  },
  {
   "cell_type": "code",
   "execution_count": 23,
   "id": "dc8b98e3",
   "metadata": {},
   "outputs": [
    {
     "name": "stdout",
     "output_type": "stream",
     "text": [
      "F-medida: 0.9371 | Acurácia: 0.9362\n"
     ]
    }
   ],
   "source": [
    "print(\"F-medida:\", round(svm_metrics[0], 4), \"| Acurácia:\", round(svm_metrics[1], 4))"
   ]
  },
  {
   "cell_type": "markdown",
   "id": "a5870bfa",
   "metadata": {},
   "source": [
    "## RF"
   ]
  },
  {
   "cell_type": "code",
   "execution_count": 14,
   "id": "9831d4ab",
   "metadata": {},
   "outputs": [],
   "source": [
    "rf_model = RF.RF_Model(X_train, y_train)\n",
    "rf_model.fit()\n",
    "rf_model.predict(X_test)\n",
    "rf_metrics = rf_model.eval_model(y_test)"
   ]
  },
  {
   "cell_type": "code",
   "execution_count": 24,
   "id": "3dbe32de",
   "metadata": {},
   "outputs": [
    {
     "name": "stdout",
     "output_type": "stream",
     "text": [
      "F-medida: 0.9612 | Acurácia: 0.9607\n"
     ]
    }
   ],
   "source": [
    "print(\"F-medida:\", round(rf_metrics[0], 4), \"| Acurácia:\", round(rf_metrics[1], 4))"
   ]
  },
  {
   "cell_type": "markdown",
   "id": "e25a26fe",
   "metadata": {},
   "source": [
    "## KNN"
   ]
  },
  {
   "cell_type": "code",
   "execution_count": 15,
   "id": "0162903d",
   "metadata": {},
   "outputs": [],
   "source": [
    "knn_model = KNN.KNN_Model(X_train, y_train)\n",
    "knn_model.fit()\n",
    "knn_model.predict(X_test)\n",
    "knn_metrics = knn_model.eval_model(y_test)"
   ]
  },
  {
   "cell_type": "code",
   "execution_count": 25,
   "id": "1cb3a0da",
   "metadata": {},
   "outputs": [
    {
     "name": "stdout",
     "output_type": "stream",
     "text": [
      "F-medida: 0.9471 | Acurácia: 0.9469\n"
     ]
    }
   ],
   "source": [
    "print(\"F-medida:\", round(knn_metrics[0], 4), \"| Acurácia:\", round(knn_metrics[1], 4))"
   ]
  },
  {
   "cell_type": "code",
   "execution_count": null,
   "id": "7f8a4c37",
   "metadata": {},
   "outputs": [],
   "source": []
  }
 ],
 "metadata": {
  "kernelspec": {
   "display_name": "Python 3",
   "language": "python",
   "name": "python3"
  },
  "language_info": {
   "codemirror_mode": {
    "name": "ipython",
    "version": 3
   },
   "file_extension": ".py",
   "mimetype": "text/x-python",
   "name": "python",
   "nbconvert_exporter": "python",
   "pygments_lexer": "ipython3",
   "version": "3.8.10"
  }
 },
 "nbformat": 4,
 "nbformat_minor": 5
}
