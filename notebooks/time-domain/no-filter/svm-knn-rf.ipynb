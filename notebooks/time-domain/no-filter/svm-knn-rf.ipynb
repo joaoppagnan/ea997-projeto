{
 "cells": [
  {
   "cell_type": "markdown",
   "id": "726e13ee",
   "metadata": {},
   "source": [
    "# SVM, KNN and RF evaluation on the dataset in the time domain"
   ]
  },
  {
   "cell_type": "markdown",
   "id": "3a2ae41d",
   "metadata": {},
   "source": [
    "## Importing the necessary libraries and setting things up"
   ]
  },
  {
   "cell_type": "code",
   "execution_count": 11,
   "id": "9cc4077a",
   "metadata": {},
   "outputs": [],
   "source": [
    "import numpy as np\n",
    "from sklearn.model_selection import train_test_split\n",
    "import os\n",
    "import sys\n",
    "import matplotlib.pyplot as plt"
   ]
  },
  {
   "cell_type": "code",
   "execution_count": 2,
   "id": "6b0741a9",
   "metadata": {},
   "outputs": [],
   "source": [
    "REPO_ROOT_DIR = \"../../../\"\n",
    "sys.path.append(os.path.dirname(REPO_ROOT_DIR))\n",
    "import src"
   ]
  },
  {
   "cell_type": "code",
   "execution_count": null,
   "id": "7b0bed53",
   "metadata": {},
   "outputs": [],
   "source": [
    "from src.models import svm\n",
    "from src.models import knn\n",
    "from src.models import rf"
   ]
  },
  {
   "cell_type": "code",
   "execution_count": 3,
   "id": "f1863c0f",
   "metadata": {},
   "outputs": [],
   "source": [
    "csv_path = os.path.join(REPO_ROOT_DIR, \"data/raw/csv/\")"
   ]
  },
  {
   "cell_type": "markdown",
   "id": "f8028ca9",
   "metadata": {},
   "source": [
    "## Reading the dataset"
   ]
  },
  {
   "cell_type": "code",
   "execution_count": 4,
   "id": "d66c3207",
   "metadata": {},
   "outputs": [],
   "source": [
    "dataset = src.data.mit_bih_dataset.MIT_BIH_Dataset(path=csv_path)"
   ]
  },
  {
   "cell_type": "code",
   "execution_count": 9,
   "id": "886d513a",
   "metadata": {},
   "outputs": [],
   "source": [
    "X_data = dataset.get_X_data()\n",
    "y_data = dataset.get_y_data()"
   ]
  },
  {
   "cell_type": "markdown",
   "id": "900191e4",
   "metadata": {},
   "source": [
    "## Creating the train and test set"
   ]
  },
  {
   "cell_type": "code",
   "execution_count": 13,
   "id": "58e606c0",
   "metadata": {},
   "outputs": [],
   "source": [
    "X_train, X_test, y_train, y_test = train_test_split(X_data, y_data, random_state=42)"
   ]
  },
  {
   "cell_type": "code",
   "execution_count": null,
   "id": "3bcfcca4",
   "metadata": {},
   "outputs": [],
   "source": []
  }
 ],
 "metadata": {
  "kernelspec": {
   "display_name": "Python 3",
   "language": "python",
   "name": "python3"
  },
  "language_info": {
   "codemirror_mode": {
    "name": "ipython",
    "version": 3
   },
   "file_extension": ".py",
   "mimetype": "text/x-python",
   "name": "python",
   "nbconvert_exporter": "python",
   "pygments_lexer": "ipython3",
   "version": "3.8.10"
  }
 },
 "nbformat": 4,
 "nbformat_minor": 5
}
