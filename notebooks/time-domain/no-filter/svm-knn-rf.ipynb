{
 "cells": [
  {
   "cell_type": "markdown",
   "id": "641770bf",
   "metadata": {},
   "source": [
    "# SVM, KNN and RF evaluation on the dataset in the time domain"
   ]
  },
  {
   "cell_type": "markdown",
   "id": "1547b50f",
   "metadata": {},
   "source": [
    "## Importing the necessary libraries and setting things up"
   ]
  },
  {
   "cell_type": "code",
   "execution_count": 3,
   "id": "da2f4e26",
   "metadata": {},
   "outputs": [],
   "source": [
    "import numpy as np\n",
    "import pandas as pd\n",
    "import sklearn\n",
    "import os\n",
    "import sys\n",
    "import matplotlib.pyplot as plt \n",
    "\n",
    "REPO_ROOT_DIR = \"../../../\"\n",
    "sys.path.append(os.path.dirname(REPO_ROOT_DIR))\n",
    "import src"
   ]
  },
  {
   "cell_type": "markdown",
   "id": "a02a6134",
   "metadata": {},
   "source": [
    "## Reading the dataset"
   ]
  },
  {
   "cell_type": "code",
   "execution_count": 4,
   "id": "d0de0778",
   "metadata": {},
   "outputs": [
    {
     "ename": "AttributeError",
     "evalue": "module 'src' has no attribute 'data'",
     "output_type": "error",
     "traceback": [
      "\u001b[0;31m---------------------------------------------------------------------------\u001b[0m",
      "\u001b[0;31mAttributeError\u001b[0m                            Traceback (most recent call last)",
      "\u001b[0;32m<ipython-input-4-8e12994b032d>\u001b[0m in \u001b[0;36m<module>\u001b[0;34m\u001b[0m\n\u001b[0;32m----> 1\u001b[0;31m \u001b[0mdataset\u001b[0m \u001b[0;34m=\u001b[0m \u001b[0msrc\u001b[0m\u001b[0;34m.\u001b[0m\u001b[0mdata\u001b[0m\u001b[0;34m.\u001b[0m\u001b[0mmit_bih_dataset\u001b[0m\u001b[0;34m.\u001b[0m\u001b[0mMIT_BIH_Dataset\u001b[0m\u001b[0;34m(\u001b[0m\u001b[0;34m)\u001b[0m\u001b[0;34m\u001b[0m\u001b[0;34m\u001b[0m\u001b[0m\n\u001b[0m",
      "\u001b[0;31mAttributeError\u001b[0m: module 'src' has no attribute 'data'"
     ]
    }
   ],
   "source": [
    "dataset = src.data.mit_bih_dataset.MIT_BIH_Dataset()"
   ]
  },
  {
   "cell_type": "code",
   "execution_count": null,
   "id": "db683b66",
   "metadata": {},
   "outputs": [],
   "source": []
  }
 ],
 "metadata": {
  "kernelspec": {
   "display_name": "Python 3",
   "language": "python",
   "name": "python3"
  },
  "language_info": {
   "codemirror_mode": {
    "name": "ipython",
    "version": 3
   },
   "file_extension": ".py",
   "mimetype": "text/x-python",
   "name": "python",
   "nbconvert_exporter": "python",
   "pygments_lexer": "ipython3",
   "version": "3.8.10"
  }
 },
 "nbformat": 4,
 "nbformat_minor": 5
}
